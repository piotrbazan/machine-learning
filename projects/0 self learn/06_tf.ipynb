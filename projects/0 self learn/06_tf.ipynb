{
 "cells": [
  {
   "cell_type": "code",
   "execution_count": 1,
   "metadata": {
    "collapsed": true
   },
   "outputs": [],
   "source": [
    "import numpy as np"
   ]
  },
  {
   "cell_type": "code",
   "execution_count": 15,
   "metadata": {},
   "outputs": [
    {
     "data": {
      "text/plain": [
       "2.0"
      ]
     },
     "execution_count": 15,
     "metadata": {},
     "output_type": "execute_result"
    }
   ],
   "source": [
    "np.mean([1, 2, 3])"
   ]
  },
  {
   "cell_type": "code",
   "execution_count": 16,
   "metadata": {},
   "outputs": [
    {
     "data": {
      "text/plain": [
       "3.0"
      ]
     },
     "execution_count": 16,
     "metadata": {},
     "output_type": "execute_result"
    }
   ],
   "source": [
    "np.median([1,2,3,4,5])"
   ]
  },
  {
   "cell_type": "code",
   "execution_count": 17,
   "metadata": {},
   "outputs": [
    {
     "data": {
      "text/plain": [
       "3.5"
      ]
     },
     "execution_count": 17,
     "metadata": {},
     "output_type": "execute_result"
    }
   ],
   "source": [
    "np.median([1,2,3,4,5,6])"
   ]
  },
  {
   "cell_type": "code",
   "execution_count": 23,
   "metadata": {
    "collapsed": true
   },
   "outputs": [],
   "source": [
    "y_true = np.array([3, -0.5, 2, 7])\n",
    "y_pred = np.array([2.5, 0.0, 2, 8])"
   ]
  },
  {
   "cell_type": "code",
   "execution_count": 24,
   "metadata": {},
   "outputs": [
    {
     "data": {
      "text/plain": [
       "7.296875"
      ]
     },
     "execution_count": 24,
     "metadata": {},
     "output_type": "execute_result"
    }
   ],
   "source": [
    "np.var(y_true)"
   ]
  },
  {
   "cell_type": "code",
   "execution_count": 25,
   "metadata": {},
   "outputs": [
    {
     "data": {
      "text/plain": [
       "0.3125"
      ]
     },
     "execution_count": 25,
     "metadata": {},
     "output_type": "execute_result"
    }
   ],
   "source": [
    "np.var(y_true - y_pred)"
   ]
  },
  {
   "cell_type": "code",
   "execution_count": 27,
   "metadata": {},
   "outputs": [
    {
     "data": {
      "text/plain": [
       "0.95717344753747324"
      ]
     },
     "execution_count": 27,
     "metadata": {},
     "output_type": "execute_result"
    }
   ],
   "source": [
    "explained_variance = 1 - np.var(y_true - y_pred) / np.var(y_true)\n",
    "explained_variance"
   ]
  },
  {
   "cell_type": "code",
   "execution_count": 28,
   "metadata": {
    "collapsed": true
   },
   "outputs": [],
   "source": [
    "from sklearn.metrics import explained_variance_score"
   ]
  },
  {
   "cell_type": "code",
   "execution_count": 29,
   "metadata": {},
   "outputs": [
    {
     "data": {
      "text/plain": [
       "0.95717344753747324"
      ]
     },
     "execution_count": 29,
     "metadata": {},
     "output_type": "execute_result"
    }
   ],
   "source": [
    "explained_variance_score(y_true, y_pred)"
   ]
  },
  {
   "cell_type": "markdown",
   "metadata": {},
   "source": [
    "### Order statistics\n",
    "- amin(a[, axis, out, keepdims])\tReturn the minimum of an array or minimum along an axis.\n",
    "- amax(a[, axis, out, keepdims])\tReturn the maximum of an array or maximum along an axis.\n",
    "- nanmin(a[, axis, out, keepdims])\tReturn minimum of an array or minimum along an axis, ignoring any NaNs.\n",
    "- nanmax(a[, axis, out, keepdims])\tReturn the maximum of an array or maximum along an axis, ignoring any NaNs.\n",
    "- ptp(a[, axis, out])\tRange of values (maximum - minimum) along an axis.\n",
    "- percentile(a, q[, axis, out, ...])\tCompute the qth percentile of the data along the specified axis.\n",
    "- nanpercentile(a, q[, axis, out, ...])\tCompute the qth percentile of the data along the specified axis, while ignoring nan values."
   ]
  },
  {
   "cell_type": "code",
   "execution_count": 54,
   "metadata": {},
   "outputs": [],
   "source": [
    "v, m = np.array([1,2,-1]), np.array([[1,2,-1], [4,5,6]])"
   ]
  },
  {
   "cell_type": "code",
   "execution_count": 48,
   "metadata": {},
   "outputs": [
    {
     "data": {
      "text/plain": [
       "-1"
      ]
     },
     "execution_count": 48,
     "metadata": {},
     "output_type": "execute_result"
    }
   ],
   "source": [
    "np.amin(v)"
   ]
  },
  {
   "cell_type": "code",
   "execution_count": 52,
   "metadata": {},
   "outputs": [
    {
     "data": {
      "text/plain": [
       "[1, 2, -1]"
      ]
     },
     "execution_count": 52,
     "metadata": {},
     "output_type": "execute_result"
    }
   ],
   "source": [
    "np.amin(m)"
   ]
  },
  {
   "cell_type": "code",
   "execution_count": 55,
   "metadata": {},
   "outputs": [
    {
     "data": {
      "text/plain": [
       "(array([ 1,  2, -1]), array([-1,  4]))"
      ]
     },
     "execution_count": 55,
     "metadata": {},
     "output_type": "execute_result"
    }
   ],
   "source": [
    "np.amin(m, axis=0), np.amin(m, axis=1)"
   ]
  },
  {
   "cell_type": "code",
   "execution_count": 59,
   "metadata": {},
   "outputs": [
    {
     "data": {
      "text/plain": [
       "(nan, nan)"
      ]
     },
     "execution_count": 59,
     "metadata": {},
     "output_type": "execute_result"
    }
   ],
   "source": [
    "np.amin([1,2,3, np.nan]), np.amax([1,2,3, np.nan])"
   ]
  },
  {
   "cell_type": "code",
   "execution_count": 60,
   "metadata": {},
   "outputs": [
    {
     "data": {
      "text/plain": [
       "(1.0, 3.0)"
      ]
     },
     "execution_count": 60,
     "metadata": {},
     "output_type": "execute_result"
    }
   ],
   "source": [
    "np.nanmin([1,2,3, np.nan]), np.nanmax([1,2,3, np.nan])"
   ]
  },
  {
   "cell_type": "code",
   "execution_count": 61,
   "metadata": {},
   "outputs": [
    {
     "data": {
      "text/plain": [
       "3"
      ]
     },
     "execution_count": 61,
     "metadata": {},
     "output_type": "execute_result"
    }
   ],
   "source": [
    "np.ptp(v)"
   ]
  },
  {
   "cell_type": "code",
   "execution_count": 62,
   "metadata": {},
   "outputs": [
    {
     "data": {
      "text/plain": [
       "7"
      ]
     },
     "execution_count": 62,
     "metadata": {},
     "output_type": "execute_result"
    }
   ],
   "source": [
    "np.ptp(m)"
   ]
  },
  {
   "cell_type": "code",
   "execution_count": 63,
   "metadata": {},
   "outputs": [
    {
     "data": {
      "text/plain": [
       "(array([3, 3, 7]), array([3, 2]))"
      ]
     },
     "execution_count": 63,
     "metadata": {},
     "output_type": "execute_result"
    }
   ],
   "source": [
    "np.ptp(m, axis = 0), np.ptp(m, axis = 1)"
   ]
  },
  {
   "cell_type": "code",
   "execution_count": 72,
   "metadata": {},
   "outputs": [
    {
     "data": {
      "text/plain": [
       "(1.0, 1.5)"
      ]
     },
     "execution_count": 72,
     "metadata": {},
     "output_type": "execute_result"
    }
   ],
   "source": [
    "np.percentile(v, 50), np.percentile(v, 75)"
   ]
  },
  {
   "cell_type": "code",
   "execution_count": 75,
   "metadata": {},
   "outputs": [
    {
     "data": {
      "text/plain": [
       "3.0"
      ]
     },
     "execution_count": 75,
     "metadata": {},
     "output_type": "execute_result"
    }
   ],
   "source": [
    "np.percentile(m, 50)"
   ]
  },
  {
   "cell_type": "code",
   "execution_count": 76,
   "metadata": {},
   "outputs": [
    {
     "data": {
      "text/plain": [
       "(array([ 2.5,  3.5,  2.5]), array([ 1.,  5.]))"
      ]
     },
     "execution_count": 76,
     "metadata": {},
     "output_type": "execute_result"
    }
   ],
   "source": [
    "np.percentile(m, 50, axis = 0), np.percentile(m, 50, axis = 1)"
   ]
  },
  {
   "cell_type": "markdown",
   "metadata": {},
   "source": [
    "### Averages and variances\n",
    "- median(a[, axis, out, overwrite_input, keepdims])\tCompute the median along the specified axis.\n",
    "- average(a[, axis, weights, returned])\tCompute the weighted average along the specified axis.\n",
    "- mean(a[, axis, dtype, out, keepdims])\tCompute the arithmetic mean along the specified axis.\n",
    "- std(a[, axis, dtype, out, ddof, keepdims])\tCompute the standard deviation along the specified axis.\n",
    "- var(a[, axis, dtype, out, ddof, keepdims])\tCompute the variance along the specified axis.\n",
    "- nanmedian(a[, axis, out, overwrite_input, ...])\tCompute the median along the specified axis, while ignoring NaNs.\n",
    "- nanmean(a[, axis, dtype, out, keepdims])\tCompute the arithmetic mean along the specified axis, ignoring NaNs.\n",
    "- nanstd(a[, axis, dtype, out, ddof, keepdims])\tCompute the standard deviation along the specified axis, while ignoring NaNs.\n",
    "- nanvar(a[, axis, dtype, out, ddof, keepdims])\tCompute the variance along the specified axis, while ignoring NaNs.\n"
   ]
  },
  {
   "cell_type": "code",
   "execution_count": 92,
   "metadata": {
    "collapsed": true
   },
   "outputs": [],
   "source": [
    "m = np.array([[1,2,4], [4,5,7]])"
   ]
  },
  {
   "cell_type": "code",
   "execution_count": 93,
   "metadata": {},
   "outputs": [
    {
     "name": "stdout",
     "output_type": "stream",
     "text": [
      "4.0 [ 2.5  3.5  5.5] [ 2.  5.]\n"
     ]
    }
   ],
   "source": [
    "print np.median(m), np.median(m, axis = 0), np.median(m, axis = 1)"
   ]
  },
  {
   "cell_type": "code",
   "execution_count": 94,
   "metadata": {},
   "outputs": [
    {
     "name": "stdout",
     "output_type": "stream",
     "text": [
      "3.83333333333 [ 2.5  3.5  5.5] [ 2.33333333  5.33333333]\n"
     ]
    }
   ],
   "source": [
    "print np.mean(m), np.mean(m, axis = 0), np.mean(m, axis = 1)"
   ]
  },
  {
   "cell_type": "code",
   "execution_count": 95,
   "metadata": {},
   "outputs": [
    {
     "name": "stdout",
     "output_type": "stream",
     "text": [
      "3.83333333333 [ 2.5  3.5  5.5] [ 2.33333333  5.33333333]\n"
     ]
    }
   ],
   "source": [
    "print np.average(m), np.average(m, axis = 0), np.average(m, axis = 1)"
   ]
  },
  {
   "cell_type": "code",
   "execution_count": 99,
   "metadata": {},
   "outputs": [
    {
     "name": "stdout",
     "output_type": "stream",
     "text": [
      "[ 2.  3.  5.] [ 1.83333333  4.83333333]\n"
     ]
    }
   ],
   "source": [
    "print np.average(m, axis = 0, weights=[2,1]), np.average(m, axis = 1, weights=[3,2,1])"
   ]
  },
  {
   "cell_type": "code",
   "execution_count": 101,
   "metadata": {},
   "outputs": [
    {
     "name": "stdout",
     "output_type": "stream",
     "text": [
      "1.95078331845 3.80555555556 1.95078331845\n"
     ]
    }
   ],
   "source": [
    "print np.std(m), np.var(m), np.sqrt(np.var(m))"
   ]
  },
  {
   "cell_type": "markdown",
   "metadata": {},
   "source": [
    "### Correlating\n",
    "- corrcoef(x[, y, rowvar, bias, ddof])\tReturn Pearson product-moment correlation coefficients.\n",
    "- corelate(a, v[, mode])\tCross-correlation of two 1-dimensional sequences.\n",
    "- cov(m[, y, rowvar, bias, ddof, fweights, ...])\tEstimate a covariance matrix, given data and weights."
   ]
  },
  {
   "cell_type": "code",
   "execution_count": null,
   "metadata": {
    "collapsed": true
   },
   "outputs": [],
   "source": [
    "TODO"
   ]
  },
  {
   "cell_type": "markdown",
   "metadata": {},
   "source": [
    "### Histograms\n",
    "- histogram(a[, bins, range, normed, weights, ...])\tCompute the histogram of a set of data.\n",
    "- histogram2d(x, y[, bins, range, normed, weights])\tCompute the bi-dimensional histogram of two data samples.\n",
    "- histogramdd(sample[, bins, range, normed, ...])\tCompute the multidimensional histogram of some data.\n",
    "- bincount(x[, weights, minlength])\tCount number of occurrences of each value in array of non-negative ints.\n",
    "- digitize(x, bins[, right])\tReturn the indices of the bins to which each value in input array belongs.\n"
   ]
  },
  {
   "cell_type": "code",
   "execution_count": 118,
   "metadata": {},
   "outputs": [],
   "source": [
    "h, edges = np.histogram([1,2,3,4,1,1], bins=3)"
   ]
  },
  {
   "cell_type": "code",
   "execution_count": 119,
   "metadata": {},
   "outputs": [
    {
     "data": {
      "text/plain": [
       "(array([3, 1, 2]), array([ 1.,  2.,  3.,  4.]))"
      ]
     },
     "execution_count": 119,
     "metadata": {},
     "output_type": "execute_result"
    }
   ],
   "source": [
    "h, edges"
   ]
  }
 ],
 "metadata": {
  "anaconda-cloud": {},
  "kernelspec": {
   "display_name": "Python [conda env:py27]",
   "language": "python",
   "name": "conda-env-py27-py"
  },
  "language_info": {
   "codemirror_mode": {
    "name": "ipython",
    "version": 2
   },
   "file_extension": ".py",
   "mimetype": "text/x-python",
   "name": "python",
   "nbconvert_exporter": "python",
   "pygments_lexer": "ipython2",
   "version": "2.7.13"
  }
 },
 "nbformat": 4,
 "nbformat_minor": 2
}
