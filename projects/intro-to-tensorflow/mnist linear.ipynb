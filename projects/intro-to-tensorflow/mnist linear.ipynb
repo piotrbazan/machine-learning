{
 "cells": [
  {
   "cell_type": "code",
   "execution_count": 80,
   "metadata": {},
   "outputs": [],
   "source": [
    "# Solution is available in the other \"sandbox_solution.py\" tab\n",
    "%matplotlib inline\n",
    "import tensorflow as tf\n",
    "from tensorflow.examples.tutorials.mnist import input_data\n",
    "import numpy as np\n",
    "import matplotlib.pyplot as plt"
   ]
  },
  {
   "cell_type": "code",
   "execution_count": 24,
   "metadata": {
    "collapsed": true
   },
   "outputs": [],
   "source": [
    "def get_weights(n_features, n_labels):\n",
    "    \"\"\"\n",
    "    Return TensorFlow weights\n",
    "    :param n_features: Number of features\n",
    "    :param n_labels: Number of labels\n",
    "    :return: TensorFlow weights\n",
    "    \"\"\"\n",
    "    # TODO: Return weights\n",
    "    return tf.Variable(tf.truncated_normal((n_features, n_labels)))\n",
    "\n",
    "\n",
    "def get_biases(n_labels):\n",
    "    \"\"\"\n",
    "    Return TensorFlow bias\n",
    "    :param n_labels: Number of labels\n",
    "    :return: TensorFlow bias\n",
    "    \"\"\"\n",
    "    # TODO: Return biases\n",
    "    return tf.Variable(tf.zeros(n_labels))\n",
    "\n",
    "\n",
    "def linear(input, w, b):\n",
    "    \"\"\"\n",
    "    Return linear function in TensorFlow\n",
    "    :param input: TensorFlow input\n",
    "    :param w: TensorFlow weights\n",
    "    :param b: TensorFlow biases\n",
    "    :return: TensorFlow linear function\n",
    "    \"\"\"\n",
    "    # TODO: Linear Function (xW + b)\n",
    "    return tf.add(tf.matmul(input, w), b)"
   ]
  },
  {
   "cell_type": "code",
   "execution_count": 29,
   "metadata": {},
   "outputs": [
    {
     "name": "stdout",
     "output_type": "stream",
     "text": [
      "Extracting ./datasets/ud730/mnist/train-images-idx3-ubyte.gz\n",
      "Extracting ./datasets/ud730/mnist/train-labels-idx1-ubyte.gz\n",
      "Extracting ./datasets/ud730/mnist/t10k-images-idx3-ubyte.gz\n",
      "Extracting ./datasets/ud730/mnist/t10k-labels-idx1-ubyte.gz\n",
      "Loss: 6.95888996124\n"
     ]
    }
   ],
   "source": [
    "def mnist_features_labels(n_labels):\n",
    "    \"\"\"\n",
    "    Gets the first <n> labels from the MNIST dataset\n",
    "    :param n_labels: Number of labels to use\n",
    "    :return: Tuple of feature list and label list\n",
    "    \"\"\"\n",
    "    mnist_features = []\n",
    "    mnist_labels = []\n",
    "\n",
    "    mnist = input_data.read_data_sets('./datasets/ud730/mnist', one_hot=True)\n",
    "\n",
    "    # In order to make quizzes run faster, we're only looking at 10000 images\n",
    "    for mnist_feature, mnist_label in zip(*mnist.train.next_batch(10000)):\n",
    "\n",
    "        # Add features and labels if it's for the first <n>th labels\n",
    "        if mnist_label[:n_labels].any():\n",
    "            mnist_features.append(mnist_feature)\n",
    "            mnist_labels.append(mnist_label[:n_labels])\n",
    "\n",
    "    return mnist_features, mnist_labels\n",
    "\n",
    "\n",
    "# Number of features (28*28 image is 784 features)\n",
    "n_features = 784\n",
    "# Number of labels\n",
    "n_labels = 3\n",
    "\n",
    "# Features and Labels\n",
    "features = tf.placeholder(tf.float32)\n",
    "labels = tf.placeholder(tf.float32)\n",
    "\n",
    "# Weights and Biases\n",
    "w = get_weights(n_features, n_labels)\n",
    "b = get_biases(n_labels)\n",
    "\n",
    "# Linear Function xW + b\n",
    "logits = linear(features, w, b)\n",
    "\n",
    "# Training data\n",
    "train_features, train_labels = mnist_features_labels(n_labels)\n",
    "\n",
    "with tf.Session() as session:\n",
    "    # TODO: Initialize session variables\n",
    "    session.run(tf.global_variables_initializer())\n",
    "\n",
    "    # Softmax\n",
    "    prediction = tf.nn.softmax(logits)\n",
    "\n",
    "    # Cross entropy\n",
    "    # This quantifies how far off the predictions were.\n",
    "    # You'll learn more about this in future lessons.\n",
    "    cross_entropy = -tf.reduce_sum(labels * tf.log(prediction), reduction_indices=1)\n",
    "\n",
    "    # Training loss\n",
    "    # You'll learn more about this in future lessons.\n",
    "    loss = tf.reduce_mean(cross_entropy)\n",
    "\n",
    "    # Rate at which the weights are changed`\n",
    "    # You'll learn more about this in future lessons.\n",
    "    learning_rate = 0.08\n",
    "\n",
    "    # Gradient Descent\n",
    "    # This is the method used to train the model\n",
    "    # You'll learn more about this in future lessons.\n",
    "    optimizer = tf.train.GradientDescentOptimizer(learning_rate).minimize(loss)\n",
    "\n",
    "    # Run optimizer and get loss\n",
    "    _, l = session.run(\n",
    "        [optimizer, loss],\n",
    "        feed_dict={features: train_features, labels: train_labels})\n",
    "\n",
    "# Print loss\n",
    "print('Loss: {}'.format(l))"
   ]
  },
  {
   "cell_type": "code",
   "execution_count": 33,
   "metadata": {},
   "outputs": [
    {
     "name": "stdout",
     "output_type": "stream",
     "text": [
      "Extracting ./datasets/ud730/mnist/train-images-idx3-ubyte.gz\n",
      "Extracting ./datasets/ud730/mnist/train-labels-idx1-ubyte.gz\n",
      "Extracting ./datasets/ud730/mnist/t10k-images-idx3-ubyte.gz\n",
      "Extracting ./datasets/ud730/mnist/t10k-labels-idx1-ubyte.gz\n"
     ]
    }
   ],
   "source": [
    "n_input = 784  # MNIST data input (img shape: 28*28)\n",
    "n_classes = 10  # MNIST total classes (0-9 digits)\n",
    "\n",
    "# Import MNIST data\n",
    "mnist = input_data.read_data_sets('./datasets/ud730/mnist', one_hot=True)\n",
    "\n",
    "# The features are already scaled and the data is shuffled\n",
    "train_features = mnist.train.images\n",
    "test_features = mnist.test.images\n",
    "\n",
    "train_labels = mnist.train.labels.astype(np.float32)\n",
    "test_labels = mnist.test.labels.astype(np.float32)\n",
    "\n",
    "# Weights & bias\n",
    "weights = tf.Variable(tf.random_normal([n_input, n_classes]))\n",
    "bias = tf.Variable(tf.random_normal([n_classes]))"
   ]
  },
  {
   "cell_type": "code",
   "execution_count": 37,
   "metadata": {},
   "outputs": [
    {
     "data": {
      "text/plain": [
       "172480000"
      ]
     },
     "execution_count": 37,
     "metadata": {},
     "output_type": "execute_result"
    }
   ],
   "source": [
    "train_features.shape[0]  * train_features.shape[1] * 4"
   ]
  },
  {
   "cell_type": "code",
   "execution_count": 39,
   "metadata": {},
   "outputs": [
    {
     "data": {
      "text/plain": [
       "172480000"
      ]
     },
     "execution_count": 39,
     "metadata": {},
     "output_type": "execute_result"
    }
   ],
   "source": [
    "train_features.size * 4"
   ]
  },
  {
   "cell_type": "code",
   "execution_count": 40,
   "metadata": {},
   "outputs": [
    {
     "data": {
      "text/plain": [
       "2200000"
      ]
     },
     "execution_count": 40,
     "metadata": {},
     "output_type": "execute_result"
    }
   ],
   "source": [
    "train_labels.size * 4"
   ]
  },
  {
   "cell_type": "code",
   "execution_count": 47,
   "metadata": {},
   "outputs": [
    {
     "data": {
      "text/plain": [
       "Dimension(31360)"
      ]
     },
     "execution_count": 47,
     "metadata": {},
     "output_type": "execute_result"
    }
   ],
   "source": [
    "weights.shape[0] * weights.shape[1] * 4"
   ]
  },
  {
   "cell_type": "code",
   "execution_count": 50,
   "metadata": {},
   "outputs": [
    {
     "data": {
      "text/plain": [
       "TensorShape([Dimension(10)])"
      ]
     },
     "execution_count": 50,
     "metadata": {},
     "output_type": "execute_result"
    }
   ],
   "source": [
    "bias.shape"
   ]
  },
  {
   "cell_type": "code",
   "execution_count": 52,
   "metadata": {},
   "outputs": [
    {
     "data": {
      "text/plain": [
       "(390, 80)"
      ]
     },
     "execution_count": 52,
     "metadata": {},
     "output_type": "execute_result"
    }
   ],
   "source": [
    "50000 / 128, 50000 % 128"
   ]
  },
  {
   "cell_type": "code",
   "execution_count": 66,
   "metadata": {
    "collapsed": true
   },
   "outputs": [],
   "source": [
    "import math\n",
    "def batches(batch_size, features, labels):\n",
    "    \"\"\"\n",
    "    Create batches of features and labels\n",
    "    :param batch_size: The batch size\n",
    "    :param features: List of features\n",
    "    :param labels: List of labels\n",
    "    :return: Batches of (Features, Labels)\n",
    "    \"\"\"\n",
    "    assert len(features) == len(labels)\n",
    "    output_batches = []\n",
    "    \n",
    "    sample_size = len(features)\n",
    "    for start_i in range(0, sample_size, batch_size):\n",
    "        end_i = start_i + batch_size\n",
    "        batch = [features[start_i:end_i], labels[start_i:end_i]]\n",
    "        output_batches.append(batch)\n",
    "        \n",
    "    return output_batches"
   ]
  },
  {
   "cell_type": "code",
   "execution_count": 74,
   "metadata": {},
   "outputs": [
    {
     "name": "stdout",
     "output_type": "stream",
     "text": [
      "[[[['F11', 'F12', 'F13', 'F14'],\n",
      "   ['F21', 'F22', 'F23', 'F24'],\n",
      "   ['F31', 'F32', 'F33', 'F34']],\n",
      "  [['L11', 'L12'], ['L21', 'L22'], ['L31', 'L32']]],\n",
      " [[['F41', 'F42', 'F43', 'F44']], [['L41', 'L42']]]]\n"
     ]
    }
   ],
   "source": [
    "from pprint import pprint\n",
    "\n",
    "# 4 Samples of features\n",
    "example_features = [\n",
    "    ['F11','F12','F13','F14'],\n",
    "    ['F21','F22','F23','F24'],\n",
    "    ['F31','F32','F33','F34'],\n",
    "    ['F41','F42','F43','F44']]\n",
    "# 4 Samples of labels\n",
    "example_labels = [\n",
    "    ['L11','L12'],\n",
    "    ['L21','L22'],\n",
    "    ['L31','L32'],\n",
    "    ['L41','L42']]\n",
    "\n",
    "# PPrint prints data structures like 2d arrays, so they are easier to read\n",
    "pprint(batches(3, example_features, example_labels))\n"
   ]
  },
  {
   "cell_type": "code",
   "execution_count": 84,
   "metadata": {},
   "outputs": [
    {
     "name": "stdout",
     "output_type": "stream",
     "text": [
      "Extracting ./datasets/ud730/mnist/train-images-idx3-ubyte.gz\n",
      "Extracting ./datasets/ud730/mnist/train-labels-idx1-ubyte.gz\n",
      "Extracting ./datasets/ud730/mnist/t10k-images-idx3-ubyte.gz\n",
      "Extracting ./datasets/ud730/mnist/t10k-labels-idx1-ubyte.gz\n",
      "Test Accuracy: 0.0966000035405\n"
     ]
    },
    {
     "data": {
      "text/plain": [
       "[<matplotlib.lines.Line2D at 0x7f0216d835d0>]"
      ]
     },
     "execution_count": 84,
     "metadata": {},
     "output_type": "execute_result"
    },
    {
     "data": {
      "image/png": "[encoded data removed]",
      "text/plain": [
       "<matplotlib.figure.Figure at 0x7f022500cd10>"
      ]
     },
     "metadata": {},
     "output_type": "display_data"
    }
   ],
   "source": [
    "learning_rate = 0.001\n",
    "n_input = 784  # MNIST data input (img shape: 28*28)\n",
    "n_classes = 10  # MNIST total classes (0-9 digits)\n",
    "\n",
    "# Import MNIST data\n",
    "mnist = input_data.read_data_sets('./datasets/ud730/mnist', one_hot=True)\n",
    "\n",
    "# The features are already scaled and the data is shuffled\n",
    "train_features = mnist.train.images\n",
    "test_features = mnist.test.images\n",
    "\n",
    "train_labels = mnist.train.labels.astype(np.float32)\n",
    "test_labels = mnist.test.labels.astype(np.float32)\n",
    "\n",
    "# Features and Labels\n",
    "features = tf.placeholder(tf.float32, [None, n_input])\n",
    "labels = tf.placeholder(tf.float32, [None, n_classes])\n",
    "\n",
    "# Weights & bias\n",
    "weights = tf.Variable(tf.random_normal([n_input, n_classes]))\n",
    "bias = tf.Variable(tf.random_normal([n_classes]))\n",
    "\n",
    "# Logits - xW + b\n",
    "logits = tf.add(tf.matmul(features, weights), bias)\n",
    "\n",
    "# Define loss and optimizer\n",
    "cost = tf.reduce_mean(tf.nn.softmax_cross_entropy_with_logits(logits=logits, labels=labels))\n",
    "optimizer = tf.train.GradientDescentOptimizer(learning_rate=learning_rate).minimize(cost)\n",
    "\n",
    "# Calculate accuracy\n",
    "correct_prediction = tf.equal(tf.argmax(logits, 1), tf.argmax(labels, 1))\n",
    "accuracy = tf.reduce_mean(tf.cast(correct_prediction, tf.float32))\n",
    "\n",
    "\n",
    "# TODO: Set batch size\n",
    "batch_size = 128\n",
    "assert batch_size is not None, 'You must set the batch size'\n",
    "\n",
    "init = tf.global_variables_initializer()\n",
    "loss = []\n",
    "with tf.Session() as sess:\n",
    "    sess.run(init)\n",
    "    \n",
    "    # TODO: Train optimizer on all batches\n",
    "    for batch_features, batch_labels in batches(batch_size, train_features, train_labels):\n",
    "        _, l = sess.run([optimizer, cost], feed_dict={features: batch_features, labels: batch_labels})\n",
    "        loss.append(l)\n",
    "\n",
    "    # Calculate accuracy for test dataset\n",
    "    test_accuracy = sess.run(\n",
    "        accuracy,\n",
    "        feed_dict={features: test_features, labels: test_labels})\n",
    "\n",
    "print('Test Accuracy: {}'.format(test_accuracy))\n",
    "plt.plot(loss)\n"
   ]
  },
  {
   "cell_type": "code",
   "execution_count": 87,
   "metadata": {},
   "outputs": [
    {
     "name": "stdout",
     "output_type": "stream",
     "text": [
      "Extracting ./datasets/ud730/mnist/train-images-idx3-ubyte.gz\n",
      "Extracting ./datasets/ud730/mnist/train-labels-idx1-ubyte.gz\n",
      "Extracting ./datasets/ud730/mnist/t10k-images-idx3-ubyte.gz\n",
      "Extracting ./datasets/ud730/mnist/t10k-labels-idx1-ubyte.gz\n",
      "Epoch: 0    - Cost: 11.4     Valid Accuracy: 0.0762\n",
      "Epoch: 1    - Cost: 10.8     Valid Accuracy: 0.0898\n",
      "Epoch: 2    - Cost: 10.2     Valid Accuracy: 0.102\n",
      "Epoch: 3    - Cost: 9.69     Valid Accuracy: 0.12 \n",
      "Epoch: 4    - Cost: 9.21     Valid Accuracy: 0.133\n",
      "Epoch: 5    - Cost: 8.78     Valid Accuracy: 0.154\n",
      "Epoch: 6    - Cost: 8.4      Valid Accuracy: 0.176\n",
      "Epoch: 7    - Cost: 8.07     Valid Accuracy: 0.196\n",
      "Epoch: 8    - Cost: 7.78     Valid Accuracy: 0.216\n",
      "Epoch: 9    - Cost: 7.51     Valid Accuracy: 0.24 \n",
      "Epoch: 10   - Cost: 7.26     Valid Accuracy: 0.257\n",
      "Epoch: 11   - Cost: 7.02     Valid Accuracy: 0.276\n",
      "Epoch: 12   - Cost: 6.8      Valid Accuracy: 0.295\n",
      "Epoch: 13   - Cost: 6.6      Valid Accuracy: 0.31 \n",
      "Epoch: 14   - Cost: 6.4      Valid Accuracy: 0.329\n",
      "Epoch: 15   - Cost: 6.22     Valid Accuracy: 0.345\n",
      "Epoch: 16   - Cost: 6.04     Valid Accuracy: 0.359\n",
      "Epoch: 17   - Cost: 5.88     Valid Accuracy: 0.374\n",
      "Epoch: 18   - Cost: 5.72     Valid Accuracy: 0.387\n",
      "Epoch: 19   - Cost: 5.57     Valid Accuracy: 0.399\n",
      "Epoch: 20   - Cost: 5.43     Valid Accuracy: 0.409\n",
      "Epoch: 21   - Cost: 5.3      Valid Accuracy: 0.425\n",
      "Epoch: 22   - Cost: 5.17     Valid Accuracy: 0.437\n",
      "Epoch: 23   - Cost: 5.05     Valid Accuracy: 0.446\n",
      "Epoch: 24   - Cost: 4.93     Valid Accuracy: 0.458\n",
      "Epoch: 25   - Cost: 4.82     Valid Accuracy: 0.469\n",
      "Epoch: 26   - Cost: 4.72     Valid Accuracy: 0.479\n",
      "Epoch: 27   - Cost: 4.62     Valid Accuracy: 0.486\n",
      "Epoch: 28   - Cost: 4.52     Valid Accuracy: 0.494\n",
      "Epoch: 29   - Cost: 4.43     Valid Accuracy: 0.501\n",
      "Epoch: 30   - Cost: 4.34     Valid Accuracy: 0.506\n",
      "Epoch: 31   - Cost: 4.25     Valid Accuracy: 0.512\n",
      "Epoch: 32   - Cost: 4.17     Valid Accuracy: 0.522\n",
      "Epoch: 33   - Cost: 4.09     Valid Accuracy: 0.529\n",
      "Epoch: 34   - Cost: 4.02     Valid Accuracy: 0.535\n",
      "Epoch: 35   - Cost: 3.95     Valid Accuracy: 0.541\n",
      "Epoch: 36   - Cost: 3.88     Valid Accuracy: 0.548\n",
      "Epoch: 37   - Cost: 3.81     Valid Accuracy: 0.555\n",
      "Epoch: 38   - Cost: 3.74     Valid Accuracy: 0.561\n",
      "Epoch: 39   - Cost: 3.68     Valid Accuracy: 0.567\n",
      "Epoch: 40   - Cost: 3.62     Valid Accuracy: 0.573\n",
      "Epoch: 41   - Cost: 3.56     Valid Accuracy: 0.578\n",
      "Epoch: 42   - Cost: 3.51     Valid Accuracy: 0.581\n",
      "Epoch: 43   - Cost: 3.45     Valid Accuracy: 0.585\n",
      "Epoch: 44   - Cost: 3.4      Valid Accuracy: 0.59 \n",
      "Epoch: 45   - Cost: 3.35     Valid Accuracy: 0.596\n",
      "Epoch: 46   - Cost: 3.3      Valid Accuracy: 0.601\n",
      "Epoch: 47   - Cost: 3.25     Valid Accuracy: 0.605\n",
      "Epoch: 48   - Cost: 3.2      Valid Accuracy: 0.61 \n",
      "Epoch: 49   - Cost: 3.16     Valid Accuracy: 0.616\n",
      "Epoch: 50   - Cost: 3.12     Valid Accuracy: 0.622\n",
      "Epoch: 51   - Cost: 3.07     Valid Accuracy: 0.626\n",
      "Epoch: 52   - Cost: 3.03     Valid Accuracy: 0.629\n",
      "Epoch: 53   - Cost: 2.99     Valid Accuracy: 0.634\n",
      "Epoch: 54   - Cost: 2.95     Valid Accuracy: 0.638\n",
      "Epoch: 55   - Cost: 2.92     Valid Accuracy: 0.642\n",
      "Epoch: 56   - Cost: 2.88     Valid Accuracy: 0.644\n",
      "Epoch: 57   - Cost: 2.85     Valid Accuracy: 0.648\n",
      "Epoch: 58   - Cost: 2.81     Valid Accuracy: 0.651\n",
      "Epoch: 59   - Cost: 2.78     Valid Accuracy: 0.655\n",
      "Epoch: 60   - Cost: 2.74     Valid Accuracy: 0.658\n",
      "Epoch: 61   - Cost: 2.71     Valid Accuracy: 0.66 \n",
      "Epoch: 62   - Cost: 2.68     Valid Accuracy: 0.664\n",
      "Epoch: 63   - Cost: 2.65     Valid Accuracy: 0.668\n",
      "Epoch: 64   - Cost: 2.62     Valid Accuracy: 0.67 \n",
      "Epoch: 65   - Cost: 2.59     Valid Accuracy: 0.672\n",
      "Epoch: 66   - Cost: 2.57     Valid Accuracy: 0.675\n",
      "Epoch: 67   - Cost: 2.54     Valid Accuracy: 0.678\n",
      "Epoch: 68   - Cost: 2.51     Valid Accuracy: 0.682\n",
      "Epoch: 69   - Cost: 2.48     Valid Accuracy: 0.684\n",
      "Epoch: 70   - Cost: 2.46     Valid Accuracy: 0.687\n",
      "Epoch: 71   - Cost: 2.43     Valid Accuracy: 0.69 \n",
      "Epoch: 72   - Cost: 2.41     Valid Accuracy: 0.692\n",
      "Epoch: 73   - Cost: 2.39     Valid Accuracy: 0.695\n",
      "Epoch: 74   - Cost: 2.36     Valid Accuracy: 0.698\n",
      "Epoch: 75   - Cost: 2.34     Valid Accuracy: 0.7  \n",
      "Epoch: 76   - Cost: 2.32     Valid Accuracy: 0.702\n",
      "Epoch: 77   - Cost: 2.3      Valid Accuracy: 0.704\n",
      "Epoch: 78   - Cost: 2.27     Valid Accuracy: 0.706\n",
      "Epoch: 79   - Cost: 2.25     Valid Accuracy: 0.709\n",
      "Epoch: 80   - Cost: 2.23     Valid Accuracy: 0.711\n",
      "Epoch: 81   - Cost: 2.21     Valid Accuracy: 0.713\n",
      "Epoch: 82   - Cost: 2.19     Valid Accuracy: 0.714\n",
      "Epoch: 83   - Cost: 2.17     Valid Accuracy: 0.716\n",
      "Epoch: 84   - Cost: 2.15     Valid Accuracy: 0.717\n",
      "Epoch: 85   - Cost: 2.14     Valid Accuracy: 0.719\n",
      "Epoch: 86   - Cost: 2.12     Valid Accuracy: 0.72 \n",
      "Epoch: 87   - Cost: 2.1      Valid Accuracy: 0.722\n",
      "Epoch: 88   - Cost: 2.08     Valid Accuracy: 0.724\n",
      "Epoch: 89   - Cost: 2.07     Valid Accuracy: 0.725\n",
      "Epoch: 90   - Cost: 2.05     Valid Accuracy: 0.727\n",
      "Epoch: 91   - Cost: 2.03     Valid Accuracy: 0.729\n",
      "Epoch: 92   - Cost: 2.02     Valid Accuracy: 0.73 \n",
      "Epoch: 93   - Cost: 2.0      Valid Accuracy: 0.731\n",
      "Epoch: 94   - Cost: 1.98     Valid Accuracy: 0.731\n",
      "Epoch: 95   - Cost: 1.97     Valid Accuracy: 0.732\n",
      "Epoch: 96   - Cost: 1.95     Valid Accuracy: 0.734\n",
      "Epoch: 97   - Cost: 1.94     Valid Accuracy: 0.735\n",
      "Epoch: 98   - Cost: 1.92     Valid Accuracy: 0.737\n",
      "Epoch: 99   - Cost: 1.91     Valid Accuracy: 0.738\n",
      "Test Accuracy: 0.735099971294\n"
     ]
    }
   ],
   "source": [
    "cost_hist, acc_hist = [], []\n",
    "def print_epoch_stats(epoch_i, sess, last_features, last_labels):\n",
    "    global cost_hist, acc_hist\n",
    "    \"\"\"\n",
    "    Print cost and validation accuracy of an epoch\n",
    "    \"\"\"\n",
    "    current_cost = sess.run(\n",
    "        cost,\n",
    "        feed_dict={features: last_features, labels: last_labels})\n",
    "    valid_accuracy = sess.run(\n",
    "        accuracy,\n",
    "        feed_dict={features: valid_features, labels: valid_labels})\n",
    "    print('Epoch: {:<4} - Cost: {:<8.3} Valid Accuracy: {:<5.3}'.format(\n",
    "        epoch_i,\n",
    "        current_cost,\n",
    "        valid_accuracy))\n",
    "    \n",
    "    cost_hist.append(current_cost)\n",
    "    acc_hist.append(valid_accuracy)\n",
    "\n",
    "n_input = 784  # MNIST data input (img shape: 28*28)\n",
    "n_classes = 10  # MNIST total classes (0-9 digits)\n",
    "\n",
    "# Import MNIST data\n",
    "mnist = input_data.read_data_sets('./datasets/ud730/mnist', one_hot=True)\n",
    "\n",
    "# The features are already scaled and the data is shuffled\n",
    "train_features = mnist.train.images\n",
    "valid_features = mnist.validation.images\n",
    "test_features = mnist.test.images\n",
    "\n",
    "train_labels = mnist.train.labels.astype(np.float32)\n",
    "valid_labels = mnist.validation.labels.astype(np.float32)\n",
    "test_labels = mnist.test.labels.astype(np.float32)\n",
    "\n",
    "# Features and Labels\n",
    "features = tf.placeholder(tf.float32, [None, n_input])\n",
    "labels = tf.placeholder(tf.float32, [None, n_classes])\n",
    "\n",
    "# Weights & bias\n",
    "weights = tf.Variable(tf.random_normal([n_input, n_classes]))\n",
    "bias = tf.Variable(tf.random_normal([n_classes]))\n",
    "\n",
    "# Logits - xW + b\n",
    "logits = tf.add(tf.matmul(features, weights), bias)\n",
    "\n",
    "# Define loss and optimizer\n",
    "learning_rate = tf.placeholder(tf.float32)\n",
    "cost = tf.reduce_mean(tf.nn.softmax_cross_entropy_with_logits(logits=logits, labels=labels))\n",
    "optimizer = tf.train.GradientDescentOptimizer(learning_rate=learning_rate).minimize(cost)\n",
    "\n",
    "# Calculate accuracy\n",
    "correct_prediction = tf.equal(tf.argmax(logits, 1), tf.argmax(labels, 1))\n",
    "accuracy = tf.reduce_mean(tf.cast(correct_prediction, tf.float32))\n",
    "\n",
    "init = tf.global_variables_initializer()\n",
    "\n",
    "batch_size = 128\n",
    "epochs = 100\n",
    "learn_rate = 0.001\n",
    "\n",
    "train_batches = batches(batch_size, train_features, train_labels)\n",
    "\n",
    "with tf.Session() as sess:\n",
    "    sess.run(init)\n",
    "\n",
    "    # Training cycle\n",
    "    for epoch_i in range(epochs):\n",
    "\n",
    "        # Loop over all batches\n",
    "        for batch_features, batch_labels in train_batches:\n",
    "            train_feed_dict = {\n",
    "                features: batch_features,\n",
    "                labels: batch_labels,\n",
    "                learning_rate: learn_rate}\n",
    "            sess.run(optimizer, feed_dict=train_feed_dict)\n",
    "\n",
    "        # Print cost and validation accuracy of an epoch\n",
    "        print_epoch_stats(epoch_i, sess, batch_features, batch_labels)\n",
    "\n",
    "    # Calculate accuracy for test dataset\n",
    "    test_accuracy = sess.run(\n",
    "        accuracy,\n",
    "        feed_dict={features: test_features, labels: test_labels})\n",
    "\n",
    "print('Test Accuracy: {}'.format(test_accuracy))"
   ]
  },
  {
   "cell_type": "code",
   "execution_count": 94,
   "metadata": {},
   "outputs": [
    {
     "data": {
      "text/plain": [
       "[<matplotlib.lines.Line2D at 0x7f0216dd4ad0>]"
      ]
     },
     "execution_count": 94,
     "metadata": {},
     "output_type": "execute_result"
    },
    {
     "data": {
      "image/png": "[encoded data removed]",
      "text/plain": [
       "<matplotlib.figure.Figure at 0x7f0237cf7e90>"
      ]
     },
     "metadata": {},
     "output_type": "display_data"
    }
   ],
   "source": [
    "plt.plot(cost_hist)"
   ]
  },
  {
   "cell_type": "code",
   "execution_count": 95,
   "metadata": {},
   "outputs": [
    {
     "data": {
      "text/plain": [
       "[<matplotlib.lines.Line2D at 0x7f023bead850>]"
      ]
     },
     "execution_count": 95,
     "metadata": {},
     "output_type": "execute_result"
    },
    {
     "data": {
      "image/png": "[encoded data removed]",
      "text/plain": [
       "<matplotlib.figure.Figure at 0x7f0237c7b2d0>"
      ]
     },
     "metadata": {},
     "output_type": "display_data"
    }
   ],
   "source": [
    "plt.plot(acc_hist)"
   ]
  },
  {
   "cell_type": "code",
   "execution_count": null,
   "metadata": {
    "collapsed": true
   },
   "outputs": [],
   "source": []
  }
 ],
 "metadata": {
  "kernelspec": {
   "display_name": "Python [conda env:py27]",
   "language": "python",
   "name": "conda-env-py27-py"
  },
  "language_info": {
   "codemirror_mode": {
    "name": "ipython",
    "version": 2
   },
   "file_extension": ".py",
   "mimetype": "text/x-python",
   "name": "python",
   "nbconvert_exporter": "python",
   "pygments_lexer": "ipython2",
   "version": "2.7.13"
  }
 },
 "nbformat": 4,
 "nbformat_minor": 2
}
