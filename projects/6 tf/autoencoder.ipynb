{
 "cells": [
  {
   "cell_type": "code",
   "execution_count": 6,
   "metadata": {},
   "outputs": [],
   "source": [
    "%matplotlib inline"
   ]
  },
  {
   "cell_type": "code",
   "execution_count": 19,
   "metadata": {},
   "outputs": [],
   "source": [
    "import numpy as np\n",
    "import matplotlib.pyplot as plt\n",
    "from keras.datasets import mnist\n",
    "from keras.layers import Input, Dense\n",
    "from keras.models import Model"
   ]
  },
  {
   "cell_type": "code",
   "execution_count": 15,
   "metadata": {},
   "outputs": [
    {
     "name": "stdout",
     "output_type": "stream",
     "text": [
      "(60000, 784)\n",
      "(10000, 784)\n"
     ]
    }
   ],
   "source": [
    "(x_train, _), (x_test, _) = mnist.load_data()\n",
    "x_train = x_train.astype('float32') / 255.\n",
    "x_test = x_test.astype('float32') / 255.\n",
    "x_train = x_train.reshape((len(x_train), np.prod(x_train.shape[1:])))\n",
    "x_test = x_test.reshape((len(x_test), np.prod(x_test.shape[1:])))\n",
    "print x_train.shape\n",
    "print x_test.shape"
   ]
  },
  {
   "cell_type": "code",
   "execution_count": 13,
   "metadata": {},
   "outputs": [
    {
     "name": "stdout",
     "output_type": "stream",
     "text": [
      "(60000, 784)\n",
      "(10000, 784)\n"
     ]
    }
   ],
   "source": [
    "# this is the size of our encoded representations\n",
    "encoding_dim = 32  # 32 floats -> compression of factor 24.5, assuming the input is 784 floats\n",
    "\n",
    "# this is our input placeholder\n",
    "input_img = Input(shape=(784,))\n",
    "# \"encoded\" is the encoded representation of the input\n",
    "encoded = Dense(encoding_dim, activation='relu')(input_img)\n",
    "# \"decoded\" is the lossy reconstruction of the input\n",
    "decoded = Dense(784, activation='sigmoid')(encoded)\n",
    "\n",
    "# this model maps an input to its reconstruction\n",
    "autoencoder = Model(input_img, decoded)\n",
    "\n",
    "# this model maps an input to its encoded representation\n",
    "encoder = Model(input_img, encoded)\n",
    "\n",
    "# create a placeholder for an encoded (32-dimensional) input\n",
    "encoded_input = Input(shape=(encoding_dim,))\n",
    "# retrieve the last layer of the autoencoder model\n",
    "decoder_layer = autoencoder.layers[-1]\n",
    "# create the decoder model\n",
    "decoder = Model(encoded_input, decoder_layer(encoded_input))\n",
    "\n",
    "autoencoder.compile(optimizer='adadelta', loss='binary_crossentropy')"
   ]
  },
  {
   "cell_type": "code",
   "execution_count": 14,
   "metadata": {},
   "outputs": [
    {
     "name": "stdout",
     "output_type": "stream",
     "text": [
      "Train on 60000 samples, validate on 10000 samples\n",
      "Epoch 1/50\n",
      "60000/60000 [==============================] - 5s - loss: 0.3676 - val_loss: 0.2726\n",
      "Epoch 2/50\n",
      "60000/60000 [==============================] - 5s - loss: 0.2655 - val_loss: 0.2550\n",
      "Epoch 3/50\n",
      "60000/60000 [==============================] - 6s - loss: 0.2452 - val_loss: 0.2334\n",
      "Epoch 4/50\n",
      "60000/60000 [==============================] - 5s - loss: 0.2262 - val_loss: 0.2167\n",
      "Epoch 5/50\n",
      "60000/60000 [==============================] - 5s - loss: 0.2115 - val_loss: 0.2037\n",
      "Epoch 6/50\n",
      "60000/60000 [==============================] - 5s - loss: 0.1999 - val_loss: 0.1934\n",
      "Epoch 7/50\n",
      "60000/60000 [==============================] - 5s - loss: 0.1905 - val_loss: 0.1848\n",
      "Epoch 8/50\n",
      "60000/60000 [==============================] - 4s - loss: 0.1827 - val_loss: 0.1778\n",
      "Epoch 9/50\n",
      "60000/60000 [==============================] - 4s - loss: 0.1763 - val_loss: 0.1720\n",
      "Epoch 10/50\n",
      "60000/60000 [==============================] - 4s - loss: 0.1710 - val_loss: 0.1672\n",
      "Epoch 11/50\n",
      "60000/60000 [==============================] - 5s - loss: 0.1663 - val_loss: 0.1629\n",
      "Epoch 12/50\n",
      "60000/60000 [==============================] - 5s - loss: 0.1622 - val_loss: 0.1588\n",
      "Epoch 13/50\n",
      "60000/60000 [==============================] - 5s - loss: 0.1584 - val_loss: 0.1554\n",
      "Epoch 14/50\n",
      "60000/60000 [==============================] - 5s - loss: 0.1550 - val_loss: 0.1519\n",
      "Epoch 15/50\n",
      "60000/60000 [==============================] - 6s - loss: 0.1517 - val_loss: 0.1488\n",
      "Epoch 16/50\n",
      "60000/60000 [==============================] - 5s - loss: 0.1487 - val_loss: 0.1458\n",
      "Epoch 17/50\n",
      "60000/60000 [==============================] - 5s - loss: 0.1457 - val_loss: 0.1429\n",
      "Epoch 18/50\n",
      "60000/60000 [==============================] - 5s - loss: 0.1430 - val_loss: 0.1402\n",
      "Epoch 19/50\n",
      "60000/60000 [==============================] - 5s - loss: 0.1404 - val_loss: 0.1376\n",
      "Epoch 20/50\n",
      "60000/60000 [==============================] - 5s - loss: 0.1379 - val_loss: 0.1353\n",
      "Epoch 21/50\n",
      "60000/60000 [==============================] - 5s - loss: 0.1356 - val_loss: 0.1329\n",
      "Epoch 22/50\n",
      "60000/60000 [==============================] - 5s - loss: 0.1334 - val_loss: 0.1308\n",
      "Epoch 23/50\n",
      "60000/60000 [==============================] - 5s - loss: 0.1313 - val_loss: 0.1288\n",
      "Epoch 24/50\n",
      "60000/60000 [==============================] - 5s - loss: 0.1293 - val_loss: 0.1268\n",
      "Epoch 25/50\n",
      "60000/60000 [==============================] - 5s - loss: 0.1274 - val_loss: 0.1250\n",
      "Epoch 26/50\n",
      "60000/60000 [==============================] - 5s - loss: 0.1256 - val_loss: 0.1232\n",
      "Epoch 27/50\n",
      "60000/60000 [==============================] - 5s - loss: 0.1239 - val_loss: 0.1215\n",
      "Epoch 28/50\n",
      "60000/60000 [==============================] - 5s - loss: 0.1223 - val_loss: 0.1200\n",
      "Epoch 29/50\n",
      "60000/60000 [==============================] - 5s - loss: 0.1208 - val_loss: 0.1185\n",
      "Epoch 30/50\n",
      "60000/60000 [==============================] - 5s - loss: 0.1193 - val_loss: 0.1171\n",
      "Epoch 31/50\n",
      "60000/60000 [==============================] - 5s - loss: 0.1180 - val_loss: 0.1158\n",
      "Epoch 32/50\n",
      "60000/60000 [==============================] - 6s - loss: 0.1167 - val_loss: 0.1145\n",
      "Epoch 33/50\n",
      "60000/60000 [==============================] - 5s - loss: 0.1155 - val_loss: 0.1134\n",
      "Epoch 34/50\n",
      "60000/60000 [==============================] - 5s - loss: 0.1144 - val_loss: 0.1123\n",
      "Epoch 35/50\n",
      "60000/60000 [==============================] - 5s - loss: 0.1133 - val_loss: 0.1113\n",
      "Epoch 36/50\n",
      "60000/60000 [==============================] - 5s - loss: 0.1124 - val_loss: 0.1103\n",
      "Epoch 37/50\n",
      "60000/60000 [==============================] - 5s - loss: 0.1114 - val_loss: 0.1094\n",
      "Epoch 38/50\n",
      "60000/60000 [==============================] - 5s - loss: 0.1106 - val_loss: 0.1086\n",
      "Epoch 39/50\n",
      "60000/60000 [==============================] - 7s - loss: 0.1098 - val_loss: 0.1078\n",
      "Epoch 40/50\n",
      "60000/60000 [==============================] - 5s - loss: 0.1090 - val_loss: 0.1071\n",
      "Epoch 41/50\n",
      "60000/60000 [==============================] - 6s - loss: 0.1083 - val_loss: 0.1064\n",
      "Epoch 42/50\n",
      "60000/60000 [==============================] - 6s - loss: 0.1077 - val_loss: 0.1058\n",
      "Epoch 43/50\n",
      "60000/60000 [==============================] - 4s - loss: 0.1070 - val_loss: 0.1052\n",
      "Epoch 44/50\n",
      "60000/60000 [==============================] - 4s - loss: 0.1065 - val_loss: 0.1046\n",
      "Epoch 45/50\n",
      "60000/60000 [==============================] - 4s - loss: 0.1059 - val_loss: 0.1041\n",
      "Epoch 46/50\n",
      "60000/60000 [==============================] - 4s - loss: 0.1054 - val_loss: 0.1036\n",
      "Epoch 47/50\n",
      "60000/60000 [==============================] - 5s - loss: 0.1049 - val_loss: 0.1031\n",
      "Epoch 48/50\n",
      "60000/60000 [==============================] - 5s - loss: 0.1044 - val_loss: 0.1027\n",
      "Epoch 49/50\n",
      "60000/60000 [==============================] - 7s - loss: 0.1040 - val_loss: 0.1022\n",
      "Epoch 50/50\n",
      "60000/60000 [==============================] - 7s - loss: 0.1036 - val_loss: 0.1019\n"
     ]
    },
    {
     "data": {
      "text/plain": [
       "<keras.callbacks.History at 0x7f177dfdc250>"
      ]
     },
     "execution_count": 14,
     "metadata": {},
     "output_type": "execute_result"
    }
   ],
   "source": [
    "autoencoder.fit(x_train, x_train,\n",
    "                epochs=50,\n",
    "                batch_size=256,\n",
    "                shuffle=True,\n",
    "                validation_data=(x_test, x_test))"
   ]
  },
  {
   "cell_type": "code",
   "execution_count": 17,
   "metadata": {
    "collapsed": true
   },
   "outputs": [],
   "source": [
    "encoded_imgs = encoder.predict(x_test)\n",
    "decoded_imgs = decoder.predict(encoded_imgs)"
   ]
  },
  {
   "cell_type": "code",
   "execution_count": 18,
   "metadata": {},
   "outputs": [
    {
     "data": {
      "image/png": "[encoded data removed]",
      "text/plain": [
       "<matplotlib.figure.Figure at 0x7f177df54410>"
      ]
     },
     "metadata": {},
     "output_type": "display_data"
    }
   ],
   "source": [
    "n = 10  # how many digits we will display\n",
    "plt.figure(figsize=(20, 4))\n",
    "for i in range(n):\n",
    "    # display original\n",
    "    ax = plt.subplot(2, n, i + 1)\n",
    "    plt.imshow(x_test[i].reshape(28, 28))\n",
    "    plt.gray()\n",
    "    ax.get_xaxis().set_visible(False)\n",
    "    ax.get_yaxis().set_visible(False)\n",
    "\n",
    "    # display reconstruction\n",
    "    ax = plt.subplot(2, n, i + 1 + n)\n",
    "    plt.imshow(decoded_imgs[i].reshape(28, 28))\n",
    "    plt.gray()\n",
    "    ax.get_xaxis().set_visible(False)\n",
    "    ax.get_yaxis().set_visible(False)\n",
    "plt.show()"
   ]
  }
 ],
 "metadata": {
  "anaconda-cloud": {},
  "kernelspec": {
   "display_name": "Python [conda env:py27]",
   "language": "python",
   "name": "conda-env-py27-py"
  },
  "language_info": {
   "codemirror_mode": {
    "name": "ipython",
    "version": 2
   },
   "file_extension": ".py",
   "mimetype": "text/x-python",
   "name": "python",
   "nbconvert_exporter": "python",
   "pygments_lexer": "ipython2",
   "version": "2.7.13"
  }
 },
 "nbformat": 4,
 "nbformat_minor": 2
}
